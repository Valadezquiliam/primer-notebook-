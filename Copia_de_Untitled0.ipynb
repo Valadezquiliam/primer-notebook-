{
  "nbformat": 4,
  "nbformat_minor": 0,
  "metadata": {
    "colab": {
      "provenance": [],
      "authorship_tag": "ABX9TyOBUXiUs9ts8qfzyk+xP6PL",
      "include_colab_link": true
    },
    "kernelspec": {
      "name": "python3",
      "display_name": "Python 3"
    },
    "language_info": {
      "name": "python"
    }
  },
  "cells": [
    {
      "cell_type": "markdown",
      "metadata": {
        "id": "view-in-github",
        "colab_type": "text"
      },
      "source": [
        "<a href=\"https://colab.research.google.com/github/Valadezquiliam/primer-notebook-/blob/main/Copia_de_Untitled0.ipynb\" target=\"_parent\"><img src=\"https://colab.research.google.com/assets/colab-badge.svg\" alt=\"Open In Colab\"/></a>"
      ]
    },
    {
      "cell_type": "code",
      "execution_count": null,
      "metadata": {
        "colab": {
          "base_uri": "https://localhost:8080/"
        },
        "id": "-Se1gkST-6VR",
        "outputId": "0972ce01-9b48-4fe6-9a81-1746995f484a"
      },
      "outputs": [
        {
          "output_type": "stream",
          "name": "stdout",
          "text": [
            "Hola, es mi primer notebook\n"
          ]
        }
      ],
      "source": [
        "print(\"Hola, es mi primer notebook\")"
      ]
    },
    {
      "cell_type": "markdown",
      "source": [
        "# La funcion permite que se muestre el texto que escribi entre los parentesis  "
      ],
      "metadata": {
        "id": "_Q3EMe85Yse9"
      }
    }
  ]
}